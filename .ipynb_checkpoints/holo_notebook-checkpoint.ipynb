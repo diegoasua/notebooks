{
 "cells": [
  {
   "cell_type": "code",
   "execution_count": 1,
   "metadata": {},
   "outputs": [],
   "source": [
    "from datetime import date"
   ]
  },
  {
   "cell_type": "code",
   "execution_count": 2,
   "metadata": {},
   "outputs": [],
   "source": [
    "side = 'Right'\n",
    "indicator = 'GCaMP6s'\n",
    "pmt_red = .750 # V\n",
    "pmt_green = .600 # V\n",
    "wavelength = 920 # nm\n",
    "stimulation_current = 16.98 # A\n",
    "stimulation_power = 30 # mW\n",
    "imaging_power = 10 # %\n",
    "pulses = 6\n",
    "\n",
    "session = 16\n",
    "\n",
    "subject = 'JG7063'\n",
    "field = 2\n",
    "reference = 1 # what avg is ref\n",
    "\n",
    "presets = 'odorstim' # one of cellseries, odor or odorstim\n",
    "\n",
    "# one of the usual sets\n",
    "# odors_1 = '[Benzaldehyde, Ethyl Tiglate, 3-Heptanone, (+)-Pinene] + blank'\n",
    "# odors_2 = '[Methyl salicylate, Cyclohexanol, Allyl tiglate, Ethyl propionate] + blank'\n",
    "# odors_3 = '[Isoamylacetate, Ethyl Butyrate, Butyl Propionate] + blank'\n",
    "\n",
    "# regular odors\n",
    "# odors_1 = '[Benzaldehyde, Ethyl Tiglate, 3-Heptanone, (+)-Pinene] + blank'\n",
    "# odors_2 = '[EthylValerate, 2-Heptanone, Cinnamaldehyde, Methylvalerate] + blank'\n",
    "\n",
    "# potpourri\n",
    "odors_1 = '[Isoamylacetate, Isobutyl propionate, Methyl tiglate] + blank'\n",
    "odors_2 = '[Methyl salicylate, Isoamyl butyrate, Butyl acetate, Ethyl propionate]'\n",
    "\n",
    "concentration = 0.1\n",
    "\n",
    "responders = None # number assigned to the set\n",
    "cells = [39,41,43]\n",
    "\n",
    "n_blocks = 8"
   ]
  },
  {
   "cell_type": "code",
   "execution_count": 3,
   "metadata": {},
   "outputs": [],
   "source": [
    "block = 1\n",
    "today = date.today().strftime('%Y%m%d')[2:] # parsing date to military format"
   ]
  },
  {
   "cell_type": "code",
   "execution_count": 4,
   "metadata": {},
   "outputs": [],
   "source": [
    "f = open(f\"{subject}_{today}.txt\",\"x\")"
   ]
  },
  {
   "cell_type": "code",
   "execution_count": 5,
   "metadata": {},
   "outputs": [],
   "source": [
    "def write_header():\n",
    "    f.write(f'{side} side, {indicator}\\n')\n",
    "    f.write(f'{pmt_red:.3f}/{pmt_green:.3f}, {wavelength} nm, {imaging_power}%\\n\\n')\n",
    "    f.write(f'Today we are doing {presets} field {field} of mouse {subject}\\n\\n')\n",
    "    f.write(f'session: {session}\\n\\n')\n",
    "    f.write(f'-----------------------------\\n')\n",
    "    f.write(f'{presets} field {field}\\n')\n",
    "    f.write(f'-----------------------------\\n\\n')\n",
    "    f.write(f'{subject}_{today}_field{field}_avg_{reference:05d}_00001.tif = Ref\\n\\n')"
   ]
  },
  {
   "cell_type": "code",
   "execution_count": 6,
   "metadata": {},
   "outputs": [],
   "source": [
    "def write_block():\n",
    "    global block\n",
    "    global cells\n",
    "    global responders\n",
    "    if block != 1:\n",
    "        f.write(\n",
    "            f'\\nx=0, y=0, z=0.00 \\n\\n')\n",
    "    if block % 2 == 1:\n",
    "        odors = odors_1\n",
    "    elif block % 2 == 0:\n",
    "        odors = odors_2\n",
    "#     elif block % 3 == 0:\n",
    "#         odors = odors_3\n",
    "    block_str = ' '.join(\n",
    "    [\n",
    "    f'Block {block}\\n',\n",
    "    f'Power: {stimulation_current} A ({stimulation_power} mW) {pulses} pulses\\n',\n",
    "    f'Hologram: {subject}_{today}_field{field}_responders_1_individual cells {tuple(cells)}\\n',\n",
    "    f'Odors: {odors}\\n',\n",
    "    f'Conc: {concentration}\\n',\n",
    "    f'Tif: {subject}_{today}_field{field}_{presets}_{block:05d}_00001.tif\\n',\n",
    "    f'Wavesurfer: {subject}_{today}_field{field}_{presets}_{session:03d}_{block:04d}.tif\\n',\n",
    "    f'Voyeur: Foo\\n',\n",
    "    f'Result:\\n',\n",
    "    f'Notes:\\n',\n",
    "    ]\n",
    "    )\n",
    "\n",
    "    f.write(block_str)\n",
    "    block += 1\n",
    "#     cells = [index + 5 for index in cells]\n",
    "#     responders += 1"
   ]
  },
  {
   "cell_type": "code",
   "execution_count": 7,
   "metadata": {},
   "outputs": [],
   "source": [
    "write_header()"
   ]
  },
  {
   "cell_type": "code",
   "execution_count": 9,
   "metadata": {},
   "outputs": [],
   "source": [
    "for i in range(n_blocks):\n",
    "    write_block()"
   ]
  },
  {
   "cell_type": "code",
   "execution_count": 10,
   "metadata": {},
   "outputs": [],
   "source": [
    "f.close()"
   ]
  }
 ],
 "metadata": {
  "kernelspec": {
   "display_name": "Python 3",
   "language": "python",
   "name": "python3"
  },
  "language_info": {
   "codemirror_mode": {
    "name": "ipython",
    "version": 3
   },
   "file_extension": ".py",
   "mimetype": "text/x-python",
   "name": "python",
   "nbconvert_exporter": "python",
   "pygments_lexer": "ipython3",
   "version": "3.8.5"
  }
 },
 "nbformat": 4,
 "nbformat_minor": 4
}
