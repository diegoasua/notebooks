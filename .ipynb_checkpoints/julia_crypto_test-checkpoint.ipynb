{
 "cells": [
  {
   "cell_type": "code",
   "execution_count": null,
   "metadata": {},
   "outputs": [],
   "source": [
    "using AlphaVantage\n",
    "using Plots\n",
    "using DataFrames, DataFramesMeta\n",
    "using CSV, Dates, Statistics"
   ]
  },
  {
   "cell_type": "code",
   "execution_count": null,
   "metadata": {},
   "outputs": [],
   "source": [
    "ccys = [\"BTC\", \"ETH\", \"ADA\", \"DOT\", \"BNB\", \"USDT\", \"XRP\", \"UNI\", \"THETA\", \"LTC\"]"
   ]
  },
  {
   "cell_type": "code",
   "execution_count": null,
   "metadata": {},
   "outputs": [],
   "source": [
    "ratings = crypto_rating.(ccys);"
   ]
  },
  {
   "cell_type": "code",
   "execution_count": null,
   "metadata": {},
   "outputs": [],
   "source": [
    "inds = findall(.!isempty.(ratings))\n",
    "ratingsFrame = vcat(map(x->DataFrame(x[\"Crypto Rating (FCAS)\"]), ratings[inds])...)\n",
    "rename!(ratingsFrame, Symbol.([\"Symbol\", \"Name\", \"Rating\", \"Score\", \"DevScore\", \"Maturity\", \"Utility\", \"LastRefresh\", \"TZ\"]))\n",
    "for col in (:Score, :DevScore, :Maturity, :Utility)\n",
    "    ratingsFrame[!, col] .= parse.(Int64, ratingsFrame[!, col])\n",
    "end\n",
    "ratingsFrame"
   ]
  },
  {
   "cell_type": "code",
   "execution_count": null,
   "metadata": {},
   "outputs": [],
   "source": [
    "monthlyData = digital_currency_monthly.(ccys[inds], datatype = \"csv\");"
   ]
  },
  {
   "cell_type": "code",
   "execution_count": null,
   "metadata": {},
   "outputs": [],
   "source": [
    "function format_data(x, ccy)\n",
    "    df = DataFrame(x[1])\n",
    "    rename!(df, Symbol.(vec(x[2])), makeunique=true)\n",
    "    df[!, :timestamp] = Date.(df[!, :timestamp])\n",
    "    sort!(df, :timestamp)\n",
    "    df[!, :Return] = [NaN; diff(log.(df[!, Symbol(\"close (USD)\")]))]\n",
    "    df[!, :CumReturn] = [0; cumsum(diff(log.(df[!, Symbol(\"close (USD)\")])))]\n",
    "    df[!, :Symbol] .= ccy\n",
    "    df\n",
    "end\n",
    "\n",
    "prices = vcat(map(x -> format_data(x[1], x[2]), zip(monthlyData, ccys[inds]))...)\n",
    "first(prices, 5)"
   ]
  },
  {
   "cell_type": "code",
   "execution_count": null,
   "metadata": {},
   "outputs": [],
   "source": [
    "returnPlot = plot(prices[!, :timestamp], prices[!, :CumReturn], group=prices[!, :Symbol],\n",
    "                  title=\"Cummulative Return\",\n",
    "                  legend=:topleft)\n",
    "mcPlot = plot(prices[!, :timestamp], \n",
    "              prices[!, Symbol(\"market cap (USD)\")] .* prices[!, Symbol(\"close (USD)\")], \n",
    "              group=prices[!, :Symbol],\n",
    "              title=\"Market Cap\",\n",
    "              legend=:none)\n",
    "\n",
    "plot(returnPlot, mcPlot)"
   ]
  },
  {
   "cell_type": "code",
   "execution_count": null,
   "metadata": {},
   "outputs": [],
   "source": [
    "gdata = groupby(prices, :Symbol)\n",
    "avgprices = @combine(gdata, MeanVolume = mean(:volume .* cols(Symbol(\"close (USD)\"))))\n",
    "avgprices = leftjoin(avgprices, ratingsFrame, on=:Symbol)"
   ]
  },
  {
   "cell_type": "code",
   "execution_count": null,
   "metadata": {},
   "outputs": [],
   "source": [
    "scorePlots = [plot(log.(avgprices[!, x]), \n",
    "                   log.(avgprices.MeanVolume), \n",
    "                   seriestype=:scatter, \n",
    "                   series_annotations = text.(avgprices.Symbol, :bottom),\n",
    "                   legend=:none, \n",
    "                   title=String(x)) \n",
    "    for x in (:Score, :DevScore, :Maturity, :Utility)]\n",
    "plot(scorePlots...)"
   ]
  }
 ],
 "metadata": {
  "kernelspec": {
   "display_name": "Julia 1.6.0",
   "language": "julia",
   "name": "julia-1.6"
  },
  "language_info": {
   "file_extension": ".jl",
   "mimetype": "application/julia",
   "name": "julia",
   "version": "1.6.0"
  }
 },
 "nbformat": 4,
 "nbformat_minor": 4
}
